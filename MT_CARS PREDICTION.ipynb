{
 "cells": [
  {
   "cell_type": "code",
   "execution_count": 1,
   "id": "b7f87ac4-b347-47d3-af59-69ef33ff8ba7",
   "metadata": {},
   "outputs": [],
   "source": [
    "import joblib\n",
    "import pandas as pd\n",
    "import numpy as np"
   ]
  },
  {
   "cell_type": "code",
   "execution_count": 2,
   "id": "a88ab588-9d28-47d6-9263-4f2c1ac6f8cd",
   "metadata": {},
   "outputs": [],
   "source": [
    "np.set_printoptions(precision = 2, suppress = True)"
   ]
  },
  {
   "cell_type": "code",
   "execution_count": 3,
   "id": "511dd05f-104b-454a-a38c-9ea967ee91a8",
   "metadata": {},
   "outputs": [],
   "source": [
    "model = joblib.load(\"model_mtcars.pkl\")"
   ]
  },
  {
   "cell_type": "code",
   "execution_count": 4,
   "id": "71026f7b-da16-499c-9686-37dc07d87bd4",
   "metadata": {},
   "outputs": [],
   "source": [
    "cyl\t= 6\n",
    "disp = 160.0\n",
    "hp = 110\n",
    "drat = 3.90\n",
    "wt = 2.620\n",
    "qsec = 16.46\n",
    "vs = 0\n",
    "am = 1\n",
    "gear = 4\n",
    "carb = 4"
   ]
  },
  {
   "cell_type": "code",
   "execution_count": 5,
   "id": "21333b36-d2ef-4c68-914b-2cccedd0f7e8",
   "metadata": {},
   "outputs": [],
   "source": [
    "column_name = ['cyl','disp','hp','drat','wt','qsec','vs','am','gear','carb']"
   ]
  },
  {
   "cell_type": "code",
   "execution_count": 10,
   "id": "fa53590c-6bca-4f66-be0a-1e6f1c47cfb3",
   "metadata": {},
   "outputs": [],
   "source": [
    "values = [cyl, disp, hp, drat, wt, qsec, vs, am, gear, carb]"
   ]
  },
  {
   "cell_type": "code",
   "execution_count": 11,
   "id": "f573e273-19b5-4b93-9424-de29560ecde5",
   "metadata": {},
   "outputs": [],
   "source": [
    "data = pd.DataFrame([values], columns=column_name)"
   ]
  },
  {
   "cell_type": "code",
   "execution_count": 15,
   "id": "d633b15a-7121-4c3f-9ec4-8ecc8d03d7b6",
   "metadata": {},
   "outputs": [],
   "source": [
    "pred_value = model.predict(data)"
   ]
  },
  {
   "cell_type": "code",
   "execution_count": 16,
   "id": "c23cd7c2-48b4-4022-b44f-e7387151448c",
   "metadata": {},
   "outputs": [
    {
     "name": "stdout",
     "output_type": "stream",
     "text": [
      "21\n"
     ]
    },
    {
     "name": "stderr",
     "output_type": "stream",
     "text": [
      "C:\\Users\\HP\\AppData\\Local\\Temp\\ipykernel_11280\\1610567795.py:2: DeprecationWarning: Conversion of an array with ndim > 0 to a scalar is deprecated, and will error in future. Ensure you extract a single element from your array before performing this operation. (Deprecated NumPy 1.25.)\n",
      "  print(floor(pred_value))\n"
     ]
    }
   ],
   "source": [
    "from math import floor\n",
    "print(floor(pred_value))"
   ]
  },
  {
   "cell_type": "code",
   "execution_count": null,
   "id": "00d4d8b1-23d8-4321-955c-9bd1d63ded40",
   "metadata": {},
   "outputs": [],
   "source": []
  }
 ],
 "metadata": {
  "kernelspec": {
   "display_name": "Python 3 (ipykernel)",
   "language": "python",
   "name": "python3"
  },
  "language_info": {
   "codemirror_mode": {
    "name": "ipython",
    "version": 3
   },
   "file_extension": ".py",
   "mimetype": "text/x-python",
   "name": "python",
   "nbconvert_exporter": "python",
   "pygments_lexer": "ipython3",
   "version": "3.11.7"
  }
 },
 "nbformat": 4,
 "nbformat_minor": 5
}
